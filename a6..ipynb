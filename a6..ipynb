{
 "cells": [
  {
   "cell_type": "markdown",
   "id": "85904654-0186-4715-9bd6-8b867c2f731f",
   "metadata": {},
   "source": [
    "Q1. Explain Class and Object with respect to Object-Oriented Programming. Give a suitable example.\n",
    "Ans:A class is ablueprint for creating objects.it describe the properties and behaviors that an object,on the other hand,is an instance of a class,createdusing the blueprint provided by the class.\n",
    "for example,lets consider a class called \"person\" that defines the properties and behaviours of a person. the person class might have attribute such as name,age and gender and behaviors such as walking,talking,and eating.\n",
    "example:\n",
    "    class person:\n",
    "        def_init_(mohd,name,age,gender):\n",
    "            mohd.name=name\n",
    "            mohd.age=age\n",
    "            mohd.gender=gender\n",
    "        shahwaz=person(\"mohd shahwaz\",19,\"Male\").\n",
    "Q2. Name the four pillars of OOPs.\n",
    "Ans:The four pillars of OOP (Object-Oriented Programming) are:\n",
    "\n",
    "Encapsulation: This refers to the concept of bundling data and methods that work on that data within one unit, i.e., class. Encapsulation provides data hiding and protects the data from outside interference and misuse.\n",
    "\n",
    "Abstraction: This is the concept of hiding the implementation details and providing only the essential information to the user. Abstraction is achieved by abstract classes and interfaces in OOP.\n",
    "\n",
    "Inheritance: This is the mechanism that allows one class to inherit properties and behavior from a parent class. Inheritance helps to reuse the code and reduce code duplication.\n",
    "\n",
    "Polymorphism: This refers to the ability of an object to take on multiple forms. Polymorphism allows objects of different classes to be treated as if they were of the same class, and it is achieved through method overloading and method overriding.\n",
    "\n",
    "These four pillars of OOP make the code more organized, modular, and scalable, and they help to reduce code complexity and increase reusability.\n",
    "Q3. Explain why the __init__() function is used. Give a suitable example.\n",
    "Ans: the __init__() function is a constructor method that is automatically called when an object of a class is created. It is used to initialize the instance variables of the class and set their initial values. The __init__() method is one of the most important methods in a class as it sets the initial state of the object.\n",
    "\n",
    "Here is an example of how to use the __init__() method in Python:\n",
    "    class Person:\n",
    "    def __init__(self, name, age):\n",
    "        self.name = name\n",
    "        self.age = age\n",
    "\n",
    "    def say_hello(self):\n",
    "        print(\"Hello, my name is\", self.name, \"and I am\", self.age, \"years old.\")\n",
    "\n",
    "person1 = Person(\"mohd\", 30)\n",
    "person2 = Person(\"shahwaz\", 25)\n",
    "\n",
    "person1.say_hello()\n",
    "person2.say_hello()\n",
    "\n",
    "Q4. Why self is used in OOPs?\n",
    "Ans:In Object-Oriented Programming (OOP), the \"self\" keyword is used to refer to the instance of a class. It is a way for the instance of a class to refer to itself and access its own methods and attributes.\n",
    "\n",
    "When a method is called on an instance of a class, the instance is automatically passed as the first argument to the method. This first argument is conventionally called \"self\". It allows the method to access and modify the attributes of the instance, as well as call other methods on the instance.\n",
    "\n",
    "Q5. What is inheritance? Give an example for each type of inheritance.\n",
    "Ans:Inheritance is one of the fundamental concepts in Object-Oriented Programming (OOP). It allows a class to inherit the properties and methods of another class, known as the base or parent class. The new class, known as the derived or child class, can add or modify the properties and methods of the parent class.\n",
    "\n",
    "There are three types of inheritance in OOP:\n",
    "\n",
    ".Single inheritance: In this type of inheritance, a derived class inherits the properties and methods of a single base class.\n",
    ".Multiple inheritance: In this type of inheritance, a derived class inherits the properties and methods of multiple base classes.\n",
    ".Multi-level inheritance: In this type of inheritance, a derived class inherits the properties and methods of a base class, which in turn inherits the properties and methods of another base class."
   ]
  }
 ],
 "metadata": {
  "kernelspec": {
   "display_name": "Python 3 (ipykernel)",
   "language": "python",
   "name": "python3"
  },
  "language_info": {
   "codemirror_mode": {
    "name": "ipython",
    "version": 3
   },
   "file_extension": ".py",
   "mimetype": "text/x-python",
   "name": "python",
   "nbconvert_exporter": "python",
   "pygments_lexer": "ipython3",
   "version": "3.10.8"
  }
 },
 "nbformat": 4,
 "nbformat_minor": 5
}
